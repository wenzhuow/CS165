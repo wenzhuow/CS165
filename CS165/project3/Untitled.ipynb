{
 "cells": [
  {
   "cell_type": "code",
   "execution_count": 64,
   "metadata": {},
   "outputs": [
    {
     "name": "stdout",
     "output_type": "stream",
     "text": [
      "Index(['num', ' diameter', ' coefficient'], dtype='object')\n"
     ]
    },
    {
     "data": {
      "image/png": "[encoded data removed]",
      "text/plain": [
       "<Figure size 432x288 with 1 Axes>"
      ]
     },
     "metadata": {
      "needs_background": "light"
     },
     "output_type": "display_data"
    }
   ],
   "source": [
    "import matplotlib.pyplot as plt\n",
    "import numpy as np\n",
    "import pandas as pd\n",
    "import math\n",
    "import scipy.interpolate as ip\n",
    "\n",
    "# def plot_timings_from_file(fname):\n",
    "#     timings = pd.read_csv(fname, sep=',')\n",
    "#     print(timings.keys())\n",
    "#     x=timings[' degree'].values\n",
    "#     y=timings['num'].values\n",
    "\n",
    "#     d={}\n",
    "#     for i in x:\n",
    "#         d[i]=0\n",
    "#     for i in x:\n",
    "#         d[i]+=1\n",
    "#     x=[]\n",
    "#     y=[]\n",
    "#     for key in d.keys():\n",
    "#         x.append(key)\n",
    "#         y.append(d[key])\n",
    "  \n",
    "# #   plt.plot(x, y,'s')\n",
    "# #     plt.xscale('log')\n",
    "# #     logx = np.log(x)\n",
    "# #     logy = np.log(y)\n",
    "# #     coeffs = np.polyfit(logx,logy,deg=1)\n",
    "# #     poly = np.poly1d(coeffs)\n",
    "# #     yfit = lambda x: np.exp(poly(np.log(x)))\n",
    "# #     plt.loglog(x,yfit(x))\n",
    "# #     plt.xlabel('number of vertex')\n",
    "# #     plt.ylabel('coefficient')\n",
    "# #     plt.title(\"coefficient algorithm\")\n",
    "#     plt.plot(x, y,\"s\")\n",
    "#     plt.xlabel('degree')\n",
    "#     plt.ylabel('# of elements N')\n",
    "#     plt.title(fname+\" linlin\")\n",
    "#     plt.show()\n",
    "\n",
    "# for i in [1000,10000,100000]:\n",
    "#     plot_timings_from_file(\"degree_distribution\"+str(i))\n",
    "\n",
    "\n",
    "def plot_timings_from_file(fname):\n",
    "    timings = pd.read_csv(fname, sep=',')\n",
    "    print(timings.keys())\n",
    "    x=timings['num'].values\n",
    "    y=timings[' diameter'].values\n",
    "    \n",
    "#     logx = np.log(x)\n",
    "#     logy = y\n",
    "#     coeffs = np.polyfit(logx,logy,deg=3)\n",
    "#     poly = np.poly1d(coeffs)\n",
    "#     yfit = lambda x: np.exp(poly(np.log(x)))\n",
    "#     plt.loglog(x,yfit(x),label=\"Diameter algorithm\")\n",
    "#     plt.plot(x, y)\n",
    "#     plt.xscale('log')\n",
    "#     plt.xlabel('number of vertex')\n",
    "#     plt.ylabel('diameter')\n",
    "#     plt.title(\"Diameter algorithm\")\n",
    "#     plt.show()\n",
    "    \n",
    "    plt.plot(x, y,'s')\n",
    "    plt.xscale('log')\n",
    "    logx = np.log(x)\n",
    "    logy = np.log(y)\n",
    "    coeffs = np.polyfit(logx,logy,deg=1)\n",
    "    poly = np.poly1d(coeffs)\n",
    "    yfit = lambda x: np.exp(poly(np.log(x)))\n",
    "    plt.loglog(x,yfit(x))\n",
    "    plt.xlabel('number of vertex')\n",
    "    plt.ylabel('diameter')\n",
    "    plt.title(\"diameter algorithm\")\n",
    "    \n",
    "\n",
    "plot_timings_from_file(\"diameter and cluster\")\n"
   ]
  },
  {
   "cell_type": "code",
   "execution_count": null,
   "metadata": {},
   "outputs": [],
   "source": []
  },
  {
   "cell_type": "code",
   "execution_count": null,
   "metadata": {},
   "outputs": [],
   "source": []
  }
 ],
 "metadata": {
  "kernelspec": {
   "display_name": "Python 3",
   "language": "python",
   "name": "python3"
  },
  "language_info": {
   "codemirror_mode": {
    "name": "ipython",
    "version": 3
   },
   "file_extension": ".py",
   "mimetype": "text/x-python",
   "name": "python",
   "nbconvert_exporter": "python",
   "pygments_lexer": "ipython3",
   "version": "3.7.1"
  }
 },
 "nbformat": 4,
 "nbformat_minor": 2
}
